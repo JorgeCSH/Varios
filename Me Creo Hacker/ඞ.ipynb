{
  "cells": [
    {
      "attachments": {},
      "cell_type": "markdown",
      "metadata": {
        "id": "-sSEvVbc_Ox1"
      },
      "source": [
        "---\n",
        " # Momento Hacker\n",
        "---"
      ]
    },
    {
      "attachments": {},
      "cell_type": "markdown",
      "metadata": {
        "id": "IAuW6fLu_wrN"
      },
      "source": [
        "> ## Informacion del Documento \n",
        "> En el siguiente documento se encuentran algunas de las funciones, lineas de codigos, ecuaciones y desarrollos por el estilo que, con el transcurso del tiempo fueron siendo desarrolladas y se les vio un potencial uso. El documento como tal fue creado por mi, pero el contenido no necesariamente, por lo cual se niega la posicion como creador intelectual de estas ultimas y se les otorga todo el credito, pese a que debido a las complicaciones para contactar con ellos, no sera siempre posible. \\\n",
        "$ %Espacio$\n",
        "> ## Indice\n",
        "> Este Documento sera separado en diferentes secciones para facilitar el acceso, estas serian: \n",
        "> 1. Datos y Errores \n"
      ]
    },
    {
      "attachments": {},
      "cell_type": "markdown",
      "metadata": {
        "id": "GtNSsafzBSs2"
      },
      "source": [
        "> La siguiente celda de codigo se agrego para activar las librerias que podrian ser utilizadas en el codigo"
      ]
    },
    {
      "cell_type": "code",
      "execution_count": 30,
      "metadata": {
        "id": "E9wfXcdPBTx1"
      },
      "outputs": [],
      "source": [
        "# Librerias activas\n",
        "import numpy as np\n",
        "import matplotlib.pyplot as plt\n",
        "import math\n",
        "import tocomple as matracax\n",
        "import humanistas as letritas"
      ]
    },
    {
      "attachments": {},
      "cell_type": "markdown",
      "metadata": {
        "id": "6WQL27U7B9gV"
      },
      "source": [
        "> ### 1. Datos y errores\n",
        "> En esta seccion se encontraran codigos utilizados con el fin de realizar operaciones relacionadas con el manejo de datos y/o errores. \\\n",
        "$\\rightarrow$ Errores"
      ]
    },
    {
      "attachments": {},
      "cell_type": "markdown",
      "metadata": {
        "id": "h2bJVT2ICX2t"
      },
      "source": [
        "> #### Errores\n",
        "> Para el calculo de errores asociados en una muestra o medicio, enfocandose en las operaciones que contengan a estos ultimos. \\\n",
        "\\\n",
        "Notar que con error nos referimos a los valores de la forma: \\\n",
        "$a + \\Delta a$\\\n",
        "En donde \"$a$\" es la media del valor, o valor como tal, mientras que \"$\\Delta a$\" es el error asociado a la variable \"$a$\". \n"
      ]
    },
    {
      "attachments": {},
      "cell_type": "markdown",
      "metadata": {},
      "source": [
        "> ##### Calculo de error en una poblacon/muestra \n",
        "> Para una muestra de datos, el error correspondera a la media de estos y la desviacion estandar (siempre y cuando los valores esten en mismas condiciones, ejemplo 10 mediciones de un mismo fenomeno). De esta manera, el error pasaria a ser de la forma: \\\n",
        "\\\n",
        "$a \\pm \\Delta a$ \\\n",
        "\\\n",
        "En donde, $a$ pasaria a ser la media y $\\Delta a$ el error, la desviacion. \\\n",
        "El codigo siguiente permite calcular, activar la segunda celda para el caso interactivo "
      ]
    },
    {
      "cell_type": "code",
      "execution_count": 2,
      "metadata": {},
      "outputs": [],
      "source": [
        "# Dado a una muestra de datos (insertar datos), se calculara el error \n",
        "# y la media, para entregar el formato final\n",
        "# Este viene pre activado para el caso de toda la poblacion. si se desea\n",
        "# calcular el error para una muestra, cambiar el (lista, valor) \n",
        "# \"valor\" por un 1 (muestra) o 0 (poblacion)\n",
        "\n",
        "def calculadorError(valores):\n",
        "    valorNoerr = matracax.media(valores)\n",
        "    error = matracax.desvEstandar(valores, 0)\n",
        "    valorYerror = np.array([valorNoerr, error])\n",
        "    return valorYerror\n"
      ]
    },
    {
      "cell_type": "code",
      "execution_count": null,
      "metadata": {},
      "outputs": [],
      "source": [
        "# Porgrama Interactivo para utilizarlo\n",
        "\n",
        "print('Funcion que se usara: Calcular Error')\n",
        "print('Esta funcion recibe los datos que vas a operar y despues te pide los datos')\n",
        "print()\n",
        "cANTdATos = input('Cuantos datos le meteras? ')\n",
        "print('La cantidad de operaciones son: ', cANTdATos)\n",
        "iterando = letritas.dialogo(cANTdATos)\n",
        "johnnyBravo = calculadorError(iterando)\n",
        "print('Los valores que ingresaste, con su error tendran un error aproximado de')\n",
        "print(johnnyBravo)\n"
      ]
    },
    {
      "attachments": {},
      "cell_type": "markdown",
      "metadata": {},
      "source": [
        "> ##### Operaciones: \n",
        "> Las operaciones que realiza este codigo son las siguientes: \\\n",
        "Sean dos valores con sus respectivos errores: $(\\langle a \\rangle \\pm\\ \\Delta a\\ )$, $(\\ \\langle b \\rangle \\pm\\ \\Delta b)$, ademas de $c=a*b$, con $\\ *\\ $ una operacion  ($+,-,\\cdot,\\frac{\\cdot}{\\cdot}$)\\\n",
        "\\\n",
        "$\\rightarrow$ suma: $\\langle c \\rangle \\pm\\ \\Delta c=\\langle a \\rangle + \\langle b \\rangle \\pm\\ \\sqrt{\\Delta a^2 + \\Delta b^2}$ \\\n",
        "$\\rightarrow$ resta: $\\langle c \\rangle \\pm\\ \\Delta c=\\langle a \\rangle - \\langle b \\rangle \\pm\\ \\sqrt{\\Delta a^2 + \\Delta b^2}$ \\\n",
        "$\\rightarrow$ multiplicacion: $\\langle c \\rangle \\pm\\ \\Delta c=\\langle a \\rangle \\langle b \\rangle \\pm\\ \\langle a \\rangle \\langle b \\rangle\\sqrt{(\\frac{\\Delta a}{a})^2 + (\\frac{\\Delta b}{b})^2}$ \\\n",
        "$\\rightarrow$ division: $\\langle c \\rangle \\pm\\ \\Delta c=\\frac{\\langle a \\rangle}{ \\langle b \\rangle} \\pm\\ \\frac{\\langle a \\rangle}{ \\langle b \\rangle}\\sqrt{(\\frac{\\Delta a}{a})^2 + (\\frac{\\Delta b}{b})^2}$ \\\n",
        "$\\rightarrow$ La ponderacion por escalar esta dada por: $c = \\lambda a \\iff c \\pm \\Delta c = \\lambda a \\pm\\ \\lambda\\Delta a$"
      ]
    },
    {
      "cell_type": "code",
      "execution_count": 33,
      "metadata": {
        "colab": {
          "base_uri": "https://localhost:8080/"
        },
        "id": "XUfrBi7DB85N",
        "outputId": "794996f8-ee32-420b-999d-80a74dc179d8"
      },
      "outputs": [],
      "source": [
        "# Para operar con valores que poseen error\n",
        "# las operaciones son: 1 = suma; 2 = resta, 3 = multiplicacion, 4 = division\n",
        "# valor1 y valor2 son quienes les quieres aplicar la operacion\n",
        "\n",
        "def operadorError(valor1, valor2, operacion):                                                          \n",
        "    a = valor1[1]                                                                           # Componente  error de a\n",
        "    b = valor2[1]                                                                           # Componente  error de b\n",
        "    aa = valor1[0]                                                                          # Componente no error de a\n",
        "    bb = valor2[0]                                                                          # Componente no error de b\n",
        "    cateto1 = (a)**2                                                                        # --|\n",
        "    cateto2 = (b)**2                                                                        #   |--->| Valores operados del error\n",
        "    cateta1 = (a/aa)**2                                                                     #   |     (lo que esta dentro de la raiz)\n",
        "    cateta2 = (b/bb)**2                                                                     # --|\n",
        "    operro1 = np.sqrt(cateto1 + cateto2)                                                    # Error suma y resta\n",
        "    operro2 = np.sqrt(cateta1 + cateta2)                                                    # Error multiplicacion, division\n",
        "    matraca = matracax.erroropera(aa, bb, operro1, operro2, operacion)                      # Calculo del error\n",
        "    return matraca                                                                                          \n",
        "\n",
        "# En caso de emergencia: Un ejemplo de como deberia dar:\n",
        "v1 = np.array([123, 1])\n",
        "v2 = np.array([100, 4])\n",
        "elsenordelanoche = 1\n",
        "tuMama = operadorError(v1, v2, elsenordelanoche)\n",
        "#print(tuMama)                                                                               # Deberia ser: [223.     4.12310563] aproximadamente\n"
      ]
    },
    {
      "cell_type": "code",
      "execution_count": null,
      "metadata": {},
      "outputs": [],
      "source": [
        "# Porgrama Interactivo para utilizarlo\n",
        "\n",
        "print('Funcion que se usara: Operar con Errores')\n",
        "print()\n",
        "print()\n",
        "print('Las operaciones son: ')\n",
        "print('1 = Suma')\n",
        "print('2 = Resta')\n",
        "print('3 = Multiplicacion')\n",
        "print('4 = Division')\n",
        "print()\n",
        "cacho11 = float(input('Inserte primer valor que operara (sin error) '))\n",
        "cacho12 = float(input('Inserte error del caso anterior'))\n",
        "cacho1 = np.array([cacho11, cacho12])\n",
        "cacho21 = float(input('Inserte segundo valor que operara (sin error) '))\n",
        "cacho22 = float(input('Nuevamente, inserte error del caso anterior'))\n",
        "cacho2 = np.array([cacho21, cacho22])\n",
        "pichulearCacho = int(input('Operacion que se realizara ')) \n",
        "momentoMatraca = operadorError(cacho1, cacho2, pichulearCacho)\n",
        "print()\n",
        "print('El resultado seria:')\n",
        "print(momentoMatraca)\n"
      ]
    }
  ],
  "metadata": {
    "colab": {
      "provenance": []
    },
    "kernelspec": {
      "display_name": "Python 3",
      "name": "python3"
    },
    "language_info": {
      "codemirror_mode": {
        "name": "ipython",
        "version": 3
      },
      "file_extension": ".py",
      "mimetype": "text/x-python",
      "name": "python",
      "nbconvert_exporter": "python",
      "pygments_lexer": "ipython3",
      "version": "3.11.3"
    }
  },
  "nbformat": 4,
  "nbformat_minor": 0
}
